Weight = float(input("Enter your weight in kg: "))
Height = float(input("Enter your height in M: "))
Height1 = Height * Height
BMI = (Weight/Height1)
print(f"Your Body Mass Index is: {BMI}")
if BMI < 18.5:
    print("You are underweight")
elif BMI <= 24.9:
    print("You have healthy weight")
elif BMI <= 29.9:
    print("You are overweight")
else:
    print("You are obese")
